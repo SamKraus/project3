{
 "cells": [
  {
   "cell_type": "code",
   "execution_count": 1,
   "metadata": {},
   "outputs": [],
   "source": [
    "import pandas as pd"
   ]
  },
  {
   "cell_type": "code",
   "execution_count": 2,
   "metadata": {},
   "outputs": [],
   "source": [
    "# Create a reference to the CSV and import it into a Pandas DataFrame\n",
    "csv_path = \"Resources/knn_score_Walc_concern.csv\"\n",
    "knn_Walc_C_df = pd.read_csv(csv_path)\n",
    "csv_path = \"Resources/knn_score_Dalc_concern.csv\"\n",
    "knn_Dalc_C_df = pd.read_csv(csv_path)\n",
    "csv_path = \"Resources/knn_score_WalcDalc_concern.csv\"\n",
    "knn_WalcDalc_C_df = pd.read_csv(csv_path)\n",
    "csv_path = \"Resources/knn_score_Walc_likelyhood.csv\"\n",
    "knn_Walc_L_df = pd.read_csv(csv_path)\n",
    "csv_path = \"Resources/knn_score_Dalc_likelyhood.csv\"\n",
    "knn_Dalc_L_df = pd.read_csv(csv_path)\n",
    "csv_path = \"Resources/knn_score_WalcDalc_likelyhood.csv\"\n",
    "knn_WalcDalc_L_df = pd.read_csv(csv_path)\n",
    "knn_WalcDalc_df = pd.read_csv(csv_path)"
   ]
  },
  {
   "cell_type": "code",
   "execution_count": 3,
   "metadata": {},
   "outputs": [
    {
     "data": {
      "text/html": [
       "<div>\n",
       "<style scoped>\n",
       "    .dataframe tbody tr th:only-of-type {\n",
       "        vertical-align: middle;\n",
       "    }\n",
       "\n",
       "    .dataframe tbody tr th {\n",
       "        vertical-align: top;\n",
       "    }\n",
       "\n",
       "    .dataframe thead th {\n",
       "        text-align: right;\n",
       "    }\n",
       "</style>\n",
       "<table border=\"1\" class=\"dataframe\">\n",
       "  <thead>\n",
       "    <tr style=\"text-align: right;\">\n",
       "      <th></th>\n",
       "      <th>Unnamed: 0</th>\n",
       "      <th>KNN Score Binary Weekend</th>\n",
       "      <th>Unnamed: 0</th>\n",
       "      <th>KNN Score Bianry Weekday</th>\n",
       "      <th>Unnamed: 0</th>\n",
       "      <th>KNN Score Binary Combined</th>\n",
       "      <th>Unnamed: 0</th>\n",
       "      <th>KNN Score 5 Category Analysis Weekend</th>\n",
       "      <th>Unnamed: 0</th>\n",
       "      <th>KNN Score 5 Category Analysis Weekday</th>\n",
       "      <th>Unnamed: 0</th>\n",
       "      <th>KNN Score 5 Category Analysis Combined</th>\n",
       "    </tr>\n",
       "  </thead>\n",
       "  <tbody>\n",
       "    <tr>\n",
       "      <td>0</td>\n",
       "      <td>0</td>\n",
       "      <td>0.601227</td>\n",
       "      <td>0</td>\n",
       "      <td>0.883436</td>\n",
       "      <td>0</td>\n",
       "      <td>0.797546</td>\n",
       "      <td>0</td>\n",
       "      <td>0.276074</td>\n",
       "      <td>0</td>\n",
       "      <td>0.638037</td>\n",
       "      <td>0</td>\n",
       "      <td>0.460123</td>\n",
       "    </tr>\n",
       "  </tbody>\n",
       "</table>\n",
       "</div>"
      ],
      "text/plain": [
       "   Unnamed: 0  KNN Score Binary Weekend  Unnamed: 0  KNN Score Bianry Weekday  \\\n",
       "0           0                  0.601227           0                  0.883436   \n",
       "\n",
       "   Unnamed: 0  KNN Score Binary Combined  Unnamed: 0  \\\n",
       "0           0                   0.797546           0   \n",
       "\n",
       "   KNN Score 5 Category Analysis Weekend  Unnamed: 0  \\\n",
       "0                               0.276074           0   \n",
       "\n",
       "   KNN Score 5 Category Analysis Weekday  Unnamed: 0  \\\n",
       "0                               0.638037           0   \n",
       "\n",
       "   KNN Score 5 Category Analysis Combined  \n",
       "0                                0.460123  "
      ]
     },
     "execution_count": 3,
     "metadata": {},
     "output_type": "execute_result"
    }
   ],
   "source": [
    "KNN_summary_df = pd.concat([knn_Walc_C_df, knn_Dalc_C_df, knn_WalcDalc_C_df, knn_Walc_L_df, knn_Dalc_L_df, knn_WalcDalc_L_df], axis=1).reindex(knn_Walc_C_df.index)\n",
    "# KNN_summary_df = KNN_summary_df.drop([\"Unnamed: 0\"])\n",
    "\n",
    "KNN_summary_df"
   ]
  },
  {
   "cell_type": "code",
   "execution_count": 4,
   "metadata": {},
   "outputs": [
    {
     "data": {
      "text/plain": [
       "Index(['Unnamed: 0', 'KNN Score Binary Weekend', 'Unnamed: 0',\n",
       "       'KNN Score Bianry Weekday', 'Unnamed: 0', 'KNN Score Binary Combined',\n",
       "       'Unnamed: 0', 'KNN Score 5 Category Analysis Weekend', 'Unnamed: 0',\n",
       "       'KNN Score 5 Category Analysis Weekday', 'Unnamed: 0',\n",
       "       'KNN Score 5 Category Analysis Combined'],\n",
       "      dtype='object')"
      ]
     },
     "execution_count": 4,
     "metadata": {},
     "output_type": "execute_result"
    }
   ],
   "source": [
    "KNN_summary_df.columns"
   ]
  },
  {
   "cell_type": "code",
   "execution_count": 5,
   "metadata": {},
   "outputs": [
    {
     "data": {
      "text/html": [
       "<div>\n",
       "<style scoped>\n",
       "    .dataframe tbody tr th:only-of-type {\n",
       "        vertical-align: middle;\n",
       "    }\n",
       "\n",
       "    .dataframe tbody tr th {\n",
       "        vertical-align: top;\n",
       "    }\n",
       "\n",
       "    .dataframe thead th {\n",
       "        text-align: right;\n",
       "    }\n",
       "</style>\n",
       "<table border=\"1\" class=\"dataframe\">\n",
       "  <thead>\n",
       "    <tr style=\"text-align: right;\">\n",
       "      <th></th>\n",
       "      <th>KNN Score Binary Weekend</th>\n",
       "      <th>KNN Score Bianry Weekday</th>\n",
       "      <th>KNN Score Binary Combined</th>\n",
       "      <th>KNN Score 5 Category Analysis Weekend</th>\n",
       "      <th>KNN Score 5 Category Analysis Weekday</th>\n",
       "      <th>KNN Score 5 Category Analysis Combined</th>\n",
       "    </tr>\n",
       "  </thead>\n",
       "  <tbody>\n",
       "    <tr>\n",
       "      <td>0</td>\n",
       "      <td>0.601227</td>\n",
       "      <td>0.883436</td>\n",
       "      <td>0.797546</td>\n",
       "      <td>0.276074</td>\n",
       "      <td>0.638037</td>\n",
       "      <td>0.460123</td>\n",
       "    </tr>\n",
       "  </tbody>\n",
       "</table>\n",
       "</div>"
      ],
      "text/plain": [
       "   KNN Score Binary Weekend  KNN Score Bianry Weekday  \\\n",
       "0                  0.601227                  0.883436   \n",
       "\n",
       "   KNN Score Binary Combined  KNN Score 5 Category Analysis Weekend  \\\n",
       "0                   0.797546                               0.276074   \n",
       "\n",
       "   KNN Score 5 Category Analysis Weekday  \\\n",
       "0                               0.638037   \n",
       "\n",
       "   KNN Score 5 Category Analysis Combined  \n",
       "0                                0.460123  "
      ]
     },
     "execution_count": 5,
     "metadata": {},
     "output_type": "execute_result"
    }
   ],
   "source": [
    "KNN_summary_df = KNN_summary_df.drop(['Unnamed: 0'], axis=1)\n",
    "KNN_summary_df"
   ]
  },
  {
   "cell_type": "code",
   "execution_count": 6,
   "metadata": {},
   "outputs": [],
   "source": [
    "KNN_summary_df.to_csv('Resources/knn_score_summary_df.csv')"
   ]
  },
  {
   "cell_type": "code",
   "execution_count": null,
   "metadata": {},
   "outputs": [],
   "source": []
  }
 ],
 "metadata": {
  "kernelspec": {
   "display_name": "Python 3",
   "language": "python",
   "name": "python3"
  },
  "language_info": {
   "codemirror_mode": {
    "name": "ipython",
    "version": 3
   },
   "file_extension": ".py",
   "mimetype": "text/x-python",
   "name": "python",
   "nbconvert_exporter": "python",
   "pygments_lexer": "ipython3",
   "version": "3.6.9"
  }
 },
 "nbformat": 4,
 "nbformat_minor": 2
}
