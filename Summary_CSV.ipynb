{
 "cells": [
  {
   "cell_type": "code",
   "execution_count": 1,
   "metadata": {},
   "outputs": [],
   "source": [
    "import pandas as pd"
   ]
  },
  {
   "cell_type": "code",
   "execution_count": 2,
   "metadata": {},
   "outputs": [],
   "source": [
    "# Create a reference to the CSV and import it into a Pandas DataFrame\n",
    "csv_path = \"Resources/Dalc.csv\"\n",
    "dalc_df = pd.read_csv(csv_path)\n",
    "csv_path = \"Resources/dalc_2classes.csv\"\n",
    "dalc_2classes_df = pd.read_csv(csv_path)\n",
    "csv_path = \"Resources/dalc_walc_combined_2classes.csv\"\n",
    "dalcwalc_combined_2classes_df = pd.read_csv(csv_path)\n",
    "csv_path = \"Resources/dalc_walc_combined.csv\"\n",
    "dalcwalc_combined_df = pd.read_csv(csv_path)\n",
    "csv_path = \"Resources/walc.csv\"\n",
    "walc_df = pd.read_csv(csv_path)\n",
    "csv_path = \"Resources/walc_2classes.csv\"\n",
    "walc_2classes_df = pd.read_csv(csv_path)"
   ]
  },
  {
   "cell_type": "code",
   "execution_count": 3,
   "metadata": {},
   "outputs": [
    {
     "data": {
      "text/html": [
       "<div>\n",
       "<style scoped>\n",
       "    .dataframe tbody tr th:only-of-type {\n",
       "        vertical-align: middle;\n",
       "    }\n",
       "\n",
       "    .dataframe tbody tr th {\n",
       "        vertical-align: top;\n",
       "    }\n",
       "\n",
       "    .dataframe thead th {\n",
       "        text-align: right;\n",
       "    }\n",
       "</style>\n",
       "<table border=\"1\" class=\"dataframe\">\n",
       "  <thead>\n",
       "    <tr style=\"text-align: right;\">\n",
       "      <th></th>\n",
       "      <th>Unnamed: 0</th>\n",
       "      <th>Deep Learning Accuracy</th>\n",
       "      <th>Unnamed: 0</th>\n",
       "      <th>Deep Learning Accuracy</th>\n",
       "      <th>Unnamed: 0</th>\n",
       "      <th>Deep Learning Accuracy</th>\n",
       "      <th>Unnamed: 0</th>\n",
       "      <th>Deep Learning Accuracy</th>\n",
       "      <th>Unnamed: 0</th>\n",
       "      <th>Deep Learning Accuracy</th>\n",
       "      <th>Unnamed: 0</th>\n",
       "      <th>Deep Learning Accuracy</th>\n",
       "    </tr>\n",
       "  </thead>\n",
       "  <tbody>\n",
       "    <tr>\n",
       "      <td>0</td>\n",
       "      <td>0</td>\n",
       "      <td>0.588957</td>\n",
       "      <td>0</td>\n",
       "      <td>0.852761</td>\n",
       "      <td>0</td>\n",
       "      <td>0.533742</td>\n",
       "      <td>0</td>\n",
       "      <td>0.834356</td>\n",
       "      <td>0</td>\n",
       "      <td>0.361963</td>\n",
       "      <td>0</td>\n",
       "      <td>0.656442</td>\n",
       "    </tr>\n",
       "  </tbody>\n",
       "</table>\n",
       "</div>"
      ],
      "text/plain": [
       "   Unnamed: 0  Deep Learning Accuracy  Unnamed: 0  Deep Learning Accuracy  \\\n",
       "0           0                0.588957           0                0.852761   \n",
       "\n",
       "   Unnamed: 0  Deep Learning Accuracy  Unnamed: 0  Deep Learning Accuracy  \\\n",
       "0           0                0.533742           0                0.834356   \n",
       "\n",
       "   Unnamed: 0  Deep Learning Accuracy  Unnamed: 0  Deep Learning Accuracy  \n",
       "0           0                0.361963           0                0.656442  "
      ]
     },
     "execution_count": 3,
     "metadata": {},
     "output_type": "execute_result"
    }
   ],
   "source": [
    "\n",
    "dalcwalc_summary_df = pd.concat([dalc_df, dalc_2classes_df, dalcwalc_combined_df, dalcwalc_combined_2classes_df, walc_df, walc_2classes_df], axis=1).reindex(dalc_df.index)\n",
    "dalcwalc_summary_df"
   ]
  },
  {
   "cell_type": "code",
   "execution_count": 4,
   "metadata": {},
   "outputs": [
    {
     "data": {
      "text/html": [
       "<div>\n",
       "<style scoped>\n",
       "    .dataframe tbody tr th:only-of-type {\n",
       "        vertical-align: middle;\n",
       "    }\n",
       "\n",
       "    .dataframe tbody tr th {\n",
       "        vertical-align: top;\n",
       "    }\n",
       "\n",
       "    .dataframe thead th {\n",
       "        text-align: right;\n",
       "    }\n",
       "</style>\n",
       "<table border=\"1\" class=\"dataframe\">\n",
       "  <thead>\n",
       "    <tr style=\"text-align: right;\">\n",
       "      <th></th>\n",
       "      <th>Deep Learning Accuracy</th>\n",
       "      <th>Deep Learning Accuracy</th>\n",
       "      <th>Deep Learning Accuracy</th>\n",
       "      <th>Deep Learning Accuracy</th>\n",
       "      <th>Deep Learning Accuracy</th>\n",
       "      <th>Deep Learning Accuracy</th>\n",
       "    </tr>\n",
       "  </thead>\n",
       "  <tbody>\n",
       "    <tr>\n",
       "      <td>0</td>\n",
       "      <td>0.588957</td>\n",
       "      <td>0.852761</td>\n",
       "      <td>0.533742</td>\n",
       "      <td>0.834356</td>\n",
       "      <td>0.361963</td>\n",
       "      <td>0.656442</td>\n",
       "    </tr>\n",
       "  </tbody>\n",
       "</table>\n",
       "</div>"
      ],
      "text/plain": [
       "   Deep Learning Accuracy  Deep Learning Accuracy  Deep Learning Accuracy  \\\n",
       "0                0.588957                0.852761                0.533742   \n",
       "\n",
       "   Deep Learning Accuracy  Deep Learning Accuracy  Deep Learning Accuracy  \n",
       "0                0.834356                0.361963                0.656442  "
      ]
     },
     "execution_count": 4,
     "metadata": {},
     "output_type": "execute_result"
    }
   ],
   "source": [
    "dalcwalc_summary_df = dalcwalc_summary_df.drop(['Unnamed: 0'], axis=1)\n",
    "dalcwalc_summary_df"
   ]
  },
  {
   "cell_type": "code",
   "execution_count": 5,
   "metadata": {},
   "outputs": [
    {
     "data": {
      "text/plain": [
       "Index(['Deep Learning Accuracy', 'Deep Learning Accuracy',\n",
       "       'Deep Learning Accuracy', 'Deep Learning Accuracy',\n",
       "       'Deep Learning Accuracy', 'Deep Learning Accuracy'],\n",
       "      dtype='object')"
      ]
     },
     "execution_count": 5,
     "metadata": {},
     "output_type": "execute_result"
    }
   ],
   "source": [
    "#dalcwalc_summary_df = dalcwalc_summary_df.rename(columns = {'Deep Learning Accuracy':'Dalc Accuracy'}, inplace=True)\n",
    "dalcwalc_summary_df.columns"
   ]
  },
  {
   "cell_type": "code",
   "execution_count": 6,
   "metadata": {},
   "outputs": [
    {
     "data": {
      "text/html": [
       "<div>\n",
       "<style scoped>\n",
       "    .dataframe tbody tr th:only-of-type {\n",
       "        vertical-align: middle;\n",
       "    }\n",
       "\n",
       "    .dataframe tbody tr th {\n",
       "        vertical-align: top;\n",
       "    }\n",
       "\n",
       "    .dataframe thead th {\n",
       "        text-align: right;\n",
       "    }\n",
       "</style>\n",
       "<table border=\"1\" class=\"dataframe\">\n",
       "  <thead>\n",
       "    <tr style=\"text-align: right;\">\n",
       "      <th></th>\n",
       "      <th>Weekday Accuracy</th>\n",
       "      <th>Weekday 2 Classes Accuracy</th>\n",
       "      <th>Weekday/Weekend Combined Accuracy</th>\n",
       "      <th>Weekday/Weekend Combined 2 Classes Accuracy</th>\n",
       "      <th>Weekend Accuracy</th>\n",
       "      <th>Weekend 2 Classes Accuracy</th>\n",
       "    </tr>\n",
       "  </thead>\n",
       "  <tbody>\n",
       "    <tr>\n",
       "      <td>0</td>\n",
       "      <td>0.588957</td>\n",
       "      <td>0.852761</td>\n",
       "      <td>0.533742</td>\n",
       "      <td>0.834356</td>\n",
       "      <td>0.361963</td>\n",
       "      <td>0.656442</td>\n",
       "    </tr>\n",
       "  </tbody>\n",
       "</table>\n",
       "</div>"
      ],
      "text/plain": [
       "   Weekday Accuracy  Weekday 2 Classes Accuracy  \\\n",
       "0          0.588957                    0.852761   \n",
       "\n",
       "   Weekday/Weekend Combined Accuracy  \\\n",
       "0                           0.533742   \n",
       "\n",
       "   Weekday/Weekend Combined 2 Classes Accuracy  Weekend Accuracy  \\\n",
       "0                                     0.834356          0.361963   \n",
       "\n",
       "   Weekend 2 Classes Accuracy  \n",
       "0                    0.656442  "
      ]
     },
     "execution_count": 6,
     "metadata": {},
     "output_type": "execute_result"
    }
   ],
   "source": [
    "dalcwalc_summary_df.columns = ['Weekday Accuracy', 'Weekday 2 Classes Accuracy', 'Weekday/Weekend Combined Accuracy', 'Weekday/Weekend Combined 2 Classes Accuracy', 'Weekend Accuracy', 'Weekend 2 Classes Accuracy']\n",
    "dalcwalc_summary_df"
   ]
  },
  {
   "cell_type": "code",
   "execution_count": 8,
   "metadata": {},
   "outputs": [],
   "source": [
    "dalcwalc_summary_df.to_csv('Resources/WeekdayWeekend_Summary.csv')"
   ]
  },
  {
   "cell_type": "code",
   "execution_count": null,
   "metadata": {},
   "outputs": [],
   "source": []
  }
 ],
 "metadata": {
  "kernelspec": {
   "display_name": "Python 3",
   "language": "python",
   "name": "python3"
  },
  "language_info": {
   "codemirror_mode": {
    "name": "ipython",
    "version": 3
   },
   "file_extension": ".py",
   "mimetype": "text/x-python",
   "name": "python",
   "nbconvert_exporter": "python",
   "pygments_lexer": "ipython3",
   "version": "3.6.9"
  }
 },
 "nbformat": 4,
 "nbformat_minor": 2
}
