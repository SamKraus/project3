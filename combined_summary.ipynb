{
 "cells": [
  {
   "cell_type": "code",
   "execution_count": 1,
   "metadata": {},
   "outputs": [],
   "source": [
    "import pandas as pd\n"
   ]
  },
  {
   "cell_type": "code",
   "execution_count": 2,
   "metadata": {},
   "outputs": [],
   "source": [
    "# Create a reference to the CSV and import it into a Pandas DataFrame\n",
    "csv_path = \"Resources/knn_score_Walc_concern.csv\"\n",
    "knn_Walc_df = pd.read_csv(csv_path)\n",
    "csv_path = \"Resources/knn_score_Dalc_concern.csv\"\n",
    "knn_Dalc_df = pd.read_csv(csv_path)\n",
    "csv_path = \"Resources/knn_score_Dalc_concern.csv\"\n",
    "knn_WalcDalc_df = pd.read_csv(csv_path)"
   ]
  },
  {
   "cell_type": "code",
   "execution_count": 9,
   "metadata": {},
   "outputs": [
    {
     "data": {
      "text/html": [
       "<div>\n",
       "<style scoped>\n",
       "    .dataframe tbody tr th:only-of-type {\n",
       "        vertical-align: middle;\n",
       "    }\n",
       "\n",
       "    .dataframe tbody tr th {\n",
       "        vertical-align: top;\n",
       "    }\n",
       "\n",
       "    .dataframe thead th {\n",
       "        text-align: right;\n",
       "    }\n",
       "</style>\n",
       "<table border=\"1\" class=\"dataframe\">\n",
       "  <thead>\n",
       "    <tr style=\"text-align: right;\">\n",
       "      <th></th>\n",
       "      <th>Unnamed: 0</th>\n",
       "      <th>KNN_Score Walc Concern Level</th>\n",
       "      <th>Unnamed: 0</th>\n",
       "      <th>KNN Score Dalc Concern Level</th>\n",
       "      <th>Unnamed: 0</th>\n",
       "      <th>KNN Score Dalc Concern Level</th>\n",
       "    </tr>\n",
       "  </thead>\n",
       "  <tbody>\n",
       "    <tr>\n",
       "      <td>0</td>\n",
       "      <td>0</td>\n",
       "      <td>0.601227</td>\n",
       "      <td>0</td>\n",
       "      <td>0.883436</td>\n",
       "      <td>0</td>\n",
       "      <td>0.883436</td>\n",
       "    </tr>\n",
       "  </tbody>\n",
       "</table>\n",
       "</div>"
      ],
      "text/plain": [
       "   Unnamed: 0  KNN_Score Walc Concern Level  Unnamed: 0  \\\n",
       "0           0                      0.601227           0   \n",
       "\n",
       "   KNN Score Dalc Concern Level  Unnamed: 0  KNN Score Dalc Concern Level  \n",
       "0                      0.883436           0                      0.883436  "
      ]
     },
     "execution_count": 9,
     "metadata": {},
     "output_type": "execute_result"
    }
   ],
   "source": [
    "KNN_summary_df = pd.concat([knn_Walc_df, knn_Dalc_df, knn_WalcDalc_df], axis=1).reindex(knn_Walc_df.index)\n",
    "# KNN_summary_df = KNN_summary_df.drop([\"Unnamed: 0\"])\n",
    "\n",
    "KNN_summary_df"
   ]
  },
  {
   "cell_type": "code",
   "execution_count": 10,
   "metadata": {},
   "outputs": [
    {
     "data": {
      "text/plain": [
       "Index(['Unnamed: 0', 'KNN_Score Walc Concern Level', 'Unnamed: 0',\n",
       "       'KNN Score Dalc Concern Level', 'Unnamed: 0',\n",
       "       'KNN Score Dalc Concern Level'],\n",
       "      dtype='object')"
      ]
     },
     "execution_count": 10,
     "metadata": {},
     "output_type": "execute_result"
    }
   ],
   "source": [
    "KNN_summary_df.columns"
   ]
  },
  {
   "cell_type": "code",
   "execution_count": 11,
   "metadata": {},
   "outputs": [],
   "source": [
    "KNN_summary_df = KNN_summary_df.drop(['Unnamed: 0'], axis=1)\n",
    "KNN_summar"
   ]
  },
  {
   "cell_type": "code",
   "execution_count": null,
   "metadata": {},
   "outputs": [],
   "source": []
  }
 ],
 "metadata": {
  "kernelspec": {
   "display_name": "Python 3",
   "language": "python",
   "name": "python3"
  },
  "language_info": {
   "codemirror_mode": {
    "name": "ipython",
    "version": 3
   },
   "file_extension": ".py",
   "mimetype": "text/x-python",
   "name": "python",
   "nbconvert_exporter": "python",
   "pygments_lexer": "ipython3",
   "version": "3.6.9"
  }
 },
 "nbformat": 4,
 "nbformat_minor": 2
}
